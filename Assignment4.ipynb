{
 "cells": [
  {
   "cell_type": "code",
   "execution_count": 1,
   "id": "ccb3e0fd-46a3-4b98-bea4-ae6ea17b10c7",
   "metadata": {},
   "outputs": [],
   "source": [
    "import pandas as pd\n",
    "from sklearn.ensemble import RandomForestClassifier\n",
    "import numpy as np\n",
    "from sklearn.metrics import accuracy_score\n",
    "from sklearn.model_selection import train_test_split\n",
    "from sklearn.linear_model import LogisticRegression\n",
    "from sklearn.metrics import classification_report, confusion_matrix"
   ]
  },
  {
   "cell_type": "code",
   "execution_count": 2,
   "id": "da77ba07-10a2-409b-916b-99ef878d6c08",
   "metadata": {},
   "outputs": [],
   "source": [
    "df_log = pd.read_csv(\"CGS_data/data/SRP073813/SRP073813_log.csv\")\n",
    "df_meta = pd.read_csv(\"CGS_data/data/SRP073813/SRP073813_meta.csv\")"
   ]
  },
  {
   "cell_type": "code",
   "execution_count": 3,
   "id": "efbcc02d-71fe-457f-9bbb-2621657aea36",
   "metadata": {},
   "outputs": [],
   "source": [
    "df_log.set_index(\"HUGO\", inplace = True)\n",
    "df_meta.set_index(\"ID\", inplace = True) #Setting the index for data makes the enrichment analysis easier\n",
    "df_meta = df_meta['refinebio_subject'] #removes unnecessary data "
   ]
  },
  {
   "cell_type": "code",
   "execution_count": 4,
   "id": "898f6d30-f02e-4c91-bfce-ced288453400",
   "metadata": {},
   "outputs": [],
   "source": [
    "df_meta = df_meta.to_frame()"
   ]
  },
  {
   "cell_type": "code",
   "execution_count": 5,
   "id": "10eaff62-dbd2-4993-9d04-885ff06ecee2",
   "metadata": {},
   "outputs": [],
   "source": [
    "df_log =round(df_log) \n",
    "df_log = df_log.T #swaps columns and indexes\n",
    "df_log = df_log.join(df_meta)"
   ]
  },
  {
   "cell_type": "code",
   "execution_count": 6,
   "id": "2c3018e8-ab2a-46c4-ae68-926e390e2360",
   "metadata": {},
   "outputs": [],
   "source": [
    "df_log = df_log.loc[:, ~df_log.columns.duplicated()] #removes duplicate columns prevent deseq"
   ]
  },
  {
   "cell_type": "code",
   "execution_count": 7,
   "id": "6b92533c-d46b-431f-86b1-03d066bc4d9a",
   "metadata": {},
   "outputs": [],
   "source": [
    "#Transfomring the data to contain only data collected from a certain part of the brain in our patients \n",
    "df_log = df_log[df_log[\"refinebio_subject\"].str.contains('nacc')]\n",
    "df_meta = df_meta[df_meta[\"refinebio_subject\"].str.contains('nacc')] "
   ]
  },
  {
   "cell_type": "code",
   "execution_count": 8,
   "id": "b983bd65-8082-466c-b1a2-9662b8e53e2b",
   "metadata": {},
   "outputs": [],
   "source": [
    "df_log.drop(\"refinebio_subject\",axis =1,inplace = True)"
   ]
  },
  {
   "cell_type": "code",
   "execution_count": 9,
   "id": "ad3ac426-2a2c-44c0-bbee-189a1cebe929",
   "metadata": {},
   "outputs": [],
   "source": [
    "df_log = df_log.T"
   ]
  },
  {
   "cell_type": "code",
   "execution_count": 10,
   "id": "f6a6d606-4086-4e0e-b466-0a40930415da",
   "metadata": {},
   "outputs": [],
   "source": [
    "#get variacne sort by it and select the top ones to do Hclust on\n",
    "df_log[\"variance\"] = np.var(df_log.values, axis=1)\n",
    "df = df_log.sort_values(\"variance\", ascending=False)\n",
    "df.drop(\"variance\", axis =1, inplace = True)\n",
    "dfTen = df.head(10).T\n",
    "dfHun = df.head(100).T\n",
    "dfThous = df.head(1000).T\n",
    "dfTenThous = df.head(10000).T\n",
    "dfFiveThous = df.head(5000).T\n"
   ]
  },
  {
   "cell_type": "code",
   "execution_count": 11,
   "id": "6e375b7c-012d-42aa-86bc-c2847c9e0a6b",
   "metadata": {},
   "outputs": [],
   "source": [
    "dfFiveThous = dfFiveThous.join(df_meta)\n",
    "dfTen = dfTen.join(df_meta)\n",
    "dfHun = dfHun.join(df_meta)\n",
    "dfThous = dfThous.join(df_meta)\n",
    "dfTenThous = dfTenThous.join(df_meta)"
   ]
  },
  {
   "cell_type": "code",
   "execution_count": 12,
   "id": "c26489a4-d648-4bec-95d2-97c3543f491e",
   "metadata": {},
   "outputs": [],
   "source": [
    "def create_model(df):\n",
    "    y = df.refinebio_subject\n",
    "    cols = np.delete(df.columns, len(df.columns)-1,0)\n",
    "    X = df[cols]\n",
    "    forest_model = RandomForestClassifier(random_state=1)\n",
    "    train_X, val_X, train_y, val_y = train_test_split(X, y, test_size=0.5, random_state=1)\n",
    "    forest_model.fit(train_X,train_y)\n",
    "    y_pred = forest_model.predict(val_X)\n",
    "    accuracy = accuracy_score(val_y, y_pred)\n",
    "    print(f\"{len(df.columns)-1} Genes Accuracy: {accuracy:.2f}\")\n",
    "    forest_model.fit(X,y)\n",
    "    return forest_model\n",
    "    "
   ]
  },
  {
   "cell_type": "code",
   "execution_count": 13,
   "id": "6cdad37b-ab30-4ae5-88a2-dae0badc4c4c",
   "metadata": {},
   "outputs": [
    {
     "name": "stdout",
     "output_type": "stream",
     "text": [
      "10 Genes Accuracy: 0.40\n",
      "100 Genes Accuracy: 0.39\n",
      "1000 Genes Accuracy: 0.40\n",
      "5000 Genes Accuracy: 0.49\n",
      "10000 Genes Accuracy: 0.35\n"
     ]
    }
   ],
   "source": [
    "tenModel =create_model(dfTen)\n",
    "hunModel = create_model(dfHun)\n",
    "thousModel=create_model(dfThous)\n",
    "fiveThousModel=create_model(dfFiveThous)\n",
    "tenThousModel = create_model(dfTenThous)"
   ]
  },
  {
   "cell_type": "code",
   "execution_count": 14,
   "id": "992e9f8d-7a4e-426d-a811-6ed38468509d",
   "metadata": {},
   "outputs": [],
   "source": [
    "cols = np.delete(dfFiveThous.columns, len(dfFiveThous.columns)-1,0)\n",
    "X = dfFiveThous[cols]"
   ]
  },
  {
   "cell_type": "code",
   "execution_count": 15,
   "id": "a00a2f97-9392-4fcb-ae1d-a76aed295824",
   "metadata": {},
   "outputs": [],
   "source": [
    "def extract_genes(df,model, threshold):\n",
    "    gene_names = np.delete(df.columns, len(df.columns)-1,0)\n",
    "    importances = model.feature_importances_\n",
    "    significant_genes_rf = [gene_names[i] for i, importance in enumerate(importances) if importance > threshold]\n",
    "    return significant_genes_rf"
   ]
  },
  {
   "cell_type": "code",
   "execution_count": 16,
   "id": "f3ebf18e-992a-421f-a02c-1b50d7604baf",
   "metadata": {},
   "outputs": [],
   "source": [
    "sig_10 = set(extract_genes(dfTen, tenModel, 0.00125))\n",
    "sig_100 = set(extract_genes(dfHun, hunModel, 0.00125))\n",
    "sig_1000 = set(extract_genes(dfThous, thousModel, 0.00125))\n",
    "sig_5000 =set(extract_genes(dfFiveThous, fiveThousModel, 0.00125))\n",
    "sig_10000 = set(extract_genes(dfTenThous,tenThousModel, 0.00125))"
   ]
  },
  {
   "cell_type": "code",
   "execution_count": 17,
   "id": "038815fd-7277-46a3-a1d0-c53238e74c7f",
   "metadata": {},
   "outputs": [
    {
     "name": "stdout",
     "output_type": "stream",
     "text": [
      "There are 10 significant genes when look at the 10 most variable genes\n",
      "There are 98 significant genes when look at the 100 most variable genes\n",
      "There are 311 significant genes when look at the 1000 most variable genes\n",
      "There are 98 significant genes when look at the 5000 most variable genes\n",
      "There are 57 significant genes when look at the 10000 most variable genes\n"
     ]
    }
   ],
   "source": [
    "import venn\n",
    "\n",
    "# Define your sets\n",
    "sets = {\n",
    "    '10': set(sig_10),\n",
    "    '100': set(sig_100),\n",
    "    '1000': set(sig_1000),\n",
    "    '5000': set(sig_5000),\n",
    "    '10000': set(sig_10000)\n",
    "}\n",
    "for val in sets:\n",
    "    print(f\"There are {len(sets[val])} significant genes when look at the {val} most variable genes\")\n"
   ]
  },
  {
   "cell_type": "code",
   "execution_count": 18,
   "id": "86290706-cd1b-47ac-97fd-c7baaabe9928",
   "metadata": {},
   "outputs": [],
   "source": [
    "impGenes = dfFiveThous[list(sig_5000)]\n",
    "impGenes = impGenes.join(df_meta)"
   ]
  },
  {
   "cell_type": "code",
   "execution_count": 19,
   "id": "61b73a42-811d-40cb-9ad4-7f7952bf2d33",
   "metadata": {},
   "outputs": [],
   "source": [
    "impGenes.to_csv(\"CGS_data/data/SRP073813/model_genes.csv\")"
   ]
  },
  {
   "cell_type": "code",
   "execution_count": 20,
   "id": "fcf76082-4b06-4448-8a1c-076e054c2ab7",
   "metadata": {},
   "outputs": [
    {
     "name": "stdout",
     "output_type": "stream",
     "text": [
      "set()\n"
     ]
    }
   ],
   "source": [
    "print(sig_10000.intersection(sig_1000).intersection(sig_100).intersection(sig_10))"
   ]
  },
  {
   "cell_type": "code",
   "execution_count": 21,
   "id": "ab6234f8-3350-4d0b-8945-80ea0cfd0ba1",
   "metadata": {},
   "outputs": [],
   "source": [
    "#Logictic Regresion\n",
    "def make_model(df):\n",
    "    y = df.refinebio_subject\n",
    "    cols = np.delete(df.columns, len(df.columns)-1,0)\n",
    "    x = df[cols]\n",
    "    model = LogisticRegression(solver='newton-cg', multi_class='multinomial', random_state=0)\n",
    "    x_train, x_test, y_train, y_test =\\\n",
    "    train_test_split(x, y, test_size=0.2, random_state=1)\n",
    "    model.fit(x_train, y_train) \n",
    "    y_pred = model.predict(x_test)\n",
    "    accuracy = model.score(x_test, y_test)\n",
    "    print(f\"{len(df.columns)-1} Genes Accuracy: {accuracy:.2f}\")\n",
    "    model.fit(x,y)\n",
    "    return model"
   ]
  },
  {
   "cell_type": "code",
   "execution_count": 22,
   "id": "63d49c3f-fc97-41b9-b216-5fce6800de99",
   "metadata": {},
   "outputs": [
    {
     "name": "stdout",
     "output_type": "stream",
     "text": [
      "5000 Genes Accuracy: 0.43\n"
     ]
    }
   ],
   "source": [
    "log5000m = make_model(dfFiveThous)"
   ]
  },
  {
   "cell_type": "code",
   "execution_count": 23,
   "id": "3b4f1236-e36b-4f76-981b-266725007c49",
   "metadata": {},
   "outputs": [],
   "source": [
    "def log_extract_genes(df, model, threshold):\n",
    "    gene_names = np.delete(df.columns, len(df.columns)-1,0)\n",
    "    importances = model.coef_[0]\n",
    "    significant_genes_rf = [gene_names[i] for i, coef in enumerate(importances) if abs(coef) > threshold]\n",
    "    return significant_genes_rf"
   ]
  },
  {
   "cell_type": "code",
   "execution_count": 24,
   "id": "20c9f5f8-8c36-4425-aa7b-281a0309ec2a",
   "metadata": {},
   "outputs": [],
   "source": [
    "log_sig_5000 = set(log_extract_genes(dfFiveThous,log5000m, 0.0015))"
   ]
  },
  {
   "cell_type": "code",
   "execution_count": 37,
   "id": "aaf438a0-c5e0-41ec-b2b1-0fde0cc57ead",
   "metadata": {},
   "outputs": [
    {
     "data": {
      "text/plain": [
       "4578"
      ]
     },
     "execution_count": 37,
     "metadata": {},
     "output_type": "execute_result"
    }
   ],
   "source": [
    "len(log_sig_5000)"
   ]
  },
  {
   "cell_type": "code",
   "execution_count": 26,
   "id": "f1965229-b80f-4a17-a314-3ac64c299f0a",
   "metadata": {},
   "outputs": [],
   "source": [
    "from sklearn.model_selection import train_test_split\n",
    "from sklearn.svm import SVC\n",
    "from sklearn.metrics import accuracy_score\n",
    "\n",
    "def data_split(data1, data2):\n",
    "    d3 = pd.concat([data1,data2], axis=0).sample(frac=1.0, random_state=42)\n",
    "    return train_test_split(d3.values,d3.index.values, test_size=0.25,random_state=42)\n",
    "\n",
    "def data_group(data):\n",
    "    return data.loc['nacc_schizophrenia'], data.loc['nacc_major depression'], data.loc['nacc_bipolar disorder'], data.loc['nacc_control']\n",
    "\n",
    "def model_predict(data):\n",
    "    xTrain,xTest,yTrain, yTest = data\n",
    "    svm_classifier = SVC(kernel='linear')\n",
    "    svm_classifier.fit(xTrain, yTrain)\n",
    "    y_pred = svm_classifier.predict(xTest)\n",
    "    return accuracy_score(yTest, y_pred)\n",
    "\n",
    "def test_for_accuracy(data,numGenes):\n",
    "    dS, dD, dB, dC = data_group(data)\n",
    "    print(\"Model accuracy for top \" + numGenes + \" genes, classifying Schizophrenia vs. Control: \" + str(model_predict(data_split(dS,dC))))\n",
    "    print(\"Model accuracy for top \" + numGenes + \" genes, classifying Major Depression vs. Control: \" + str(model_predict(data_split(dD,dC))))\n",
    "    print(\"Model accuracy for top \" + numGenes + \" genes, classifying Bipolar Disorder vs. Control: \" + str(model_predict(data_split(dB,dC))))\n",
    "    print()\n",
    "    "
   ]
  },
  {
   "cell_type": "code",
   "execution_count": 27,
   "id": "e46ac36c-22ab-497b-8aab-c94dbf76adf0",
   "metadata": {},
   "outputs": [],
   "source": [
    "from sklearn.feature_selection import RFECV\n",
    "def data_train(data1, data2):\n",
    "    d3 = pd.concat([data1,data2], axis=0).sample(frac=1.0, random_state=42)\n",
    "    return d3.values, d3.index.values\n",
    "\n",
    "def computeSigFeatures(data, step_val, cv_val):\n",
    "    X_train, y_train = data\n",
    "    svm = SVC(kernel='linear')\n",
    "    rfecv = RFECV(estimator=svm, step=step_val, cv=cv_val, scoring='accuracy')\n",
    "    rfecv.fit(X_train, y_train)\n",
    "    selected_gene_indices = rfecv.support_\n",
    "    return selected_gene_indices.tolist()\n",
    "    \n",
    "def modelFeatures(data, numGenes, step, cv):\n",
    "    dS, dD, dB, dC = data_group(data)\n",
    "    gene_subset = data.columns.tolist()\n",
    "    featuresS = computeSigFeatures(data_train(dS,dC), step, cv)\n",
    "    featuresD = computeSigFeatures(data_train(dD,dC), step, cv)\n",
    "    featuresB = computeSigFeatures(data_train(dB,dC), step, cv)\n",
    "    sigS = [item for item, should_keep in zip(gene_subset, featuresS) if should_keep]\n",
    "    sigD = [item for item, should_keep in zip(gene_subset, featuresD) if should_keep]\n",
    "    sigB = [item for item, should_keep in zip(gene_subset, featuresB) if should_keep]\n",
    "    print(\"Number of significant features for top \" + numGenes + \" variable genes, for classifying Schizophrenia vs. Control: \" + str(len(sigS)))\n",
    "    print(\"Number of significant features for top \" + numGenes + \" variable genes, for classifying Major Depression vs. Control: \" + str(len(sigD)))\n",
    "    print(\"Number of significant features for top \" + numGenes + \" variable genes, for classifying Bipolar Disorder vs. Control: \" + str(len(sigB)))\n",
    "    print()\n",
    "    return sigS, sigD, sigB\n",
    "    "
   ]
  },
  {
   "cell_type": "code",
   "execution_count": 28,
   "id": "55a327f6-72bb-4fd7-a362-fe056142076c",
   "metadata": {},
   "outputs": [
    {
     "name": "stdout",
     "output_type": "stream",
     "text": [
      "Number of significant features for top 5000 variable genes, for classifying Schizophrenia vs. Control: 90\n",
      "Number of significant features for top 5000 variable genes, for classifying Major Depression vs. Control: 1530\n",
      "Number of significant features for top 5000 variable genes, for classifying Bipolar Disorder vs. Control: 1\n",
      "\n"
     ]
    }
   ],
   "source": [
    "temp = dfFiveThous\n",
    "dfFiveThous = dfFiveThous.set_index(\"refinebio_subject\")\n",
    "mf5000 = modelFeatures(dfFiveThous, \"5000\", 10, 3)\n"
   ]
  },
  {
   "cell_type": "code",
   "execution_count": 36,
   "id": "6bef87a3-8c65-4046-92e9-142361ea279d",
   "metadata": {},
   "outputs": [
    {
     "data": {
      "text/plain": [
       "1567"
      ]
     },
     "execution_count": 36,
     "metadata": {},
     "output_type": "execute_result"
    }
   ],
   "source": [
    "sv_5000 = set()\n",
    "for arr in mf5000:\n",
    "    for val in arr:\n",
    "        sv_5000.add(val)\n",
    "len(sv_5000)"
   ]
  },
  {
   "cell_type": "code",
   "execution_count": 30,
   "id": "d10880c1-550d-4700-bdb1-2236dc16cde8",
   "metadata": {},
   "outputs": [
    {
     "data": {
      "text/plain": [
       "49"
      ]
     },
     "execution_count": 30,
     "metadata": {},
     "output_type": "execute_result"
    }
   ],
   "source": [
    "important_genes =log_sig_5000.intersection(sig_5000).intersection(sv_5000)\n",
    "len(important_genes)"
   ]
  },
  {
   "cell_type": "code",
   "execution_count": 31,
   "id": "4fa8387f-00c3-4766-8ada-90bc162ce2b6",
   "metadata": {},
   "outputs": [],
   "source": [
    "impGenes = temp[list(important_genes)]\n",
    "impGenes = impGenes.join(df_meta)"
   ]
  },
  {
   "cell_type": "code",
   "execution_count": 35,
   "id": "0415045e-bf0a-4752-862a-b4474d705680",
   "metadata": {},
   "outputs": [
    {
     "data": {
      "text/html": [
       "<div>\n",
       "<style scoped>\n",
       "    .dataframe tbody tr th:only-of-type {\n",
       "        vertical-align: middle;\n",
       "    }\n",
       "\n",
       "    .dataframe tbody tr th {\n",
       "        vertical-align: top;\n",
       "    }\n",
       "\n",
       "    .dataframe thead th {\n",
       "        text-align: right;\n",
       "    }\n",
       "</style>\n",
       "<table border=\"1\" class=\"dataframe\">\n",
       "  <thead>\n",
       "    <tr style=\"text-align: right;\">\n",
       "      <th></th>\n",
       "      <th>ACBD4</th>\n",
       "      <th>UBE2F-SCLY</th>\n",
       "      <th>TRIO</th>\n",
       "      <th>FLT1</th>\n",
       "      <th>DPP7</th>\n",
       "      <th>OBSCN</th>\n",
       "      <th>RN7SL455P</th>\n",
       "      <th>MFRP</th>\n",
       "      <th>SIX1</th>\n",
       "      <th>EDNRB</th>\n",
       "      <th>...</th>\n",
       "      <th>F3</th>\n",
       "      <th>TNRC18</th>\n",
       "      <th>SEMA3B</th>\n",
       "      <th>POLE3</th>\n",
       "      <th>ARPP19</th>\n",
       "      <th>RTL6</th>\n",
       "      <th>PPIAL4E</th>\n",
       "      <th>SUN2</th>\n",
       "      <th>TNPO2</th>\n",
       "      <th>refinebio_subject</th>\n",
       "    </tr>\n",
       "  </thead>\n",
       "  <tbody>\n",
       "    <tr>\n",
       "      <th>SRR3438559</th>\n",
       "      <td>2.0</td>\n",
       "      <td>1.0</td>\n",
       "      <td>4.0</td>\n",
       "      <td>4.0</td>\n",
       "      <td>4.0</td>\n",
       "      <td>5.0</td>\n",
       "      <td>2.0</td>\n",
       "      <td>1.0</td>\n",
       "      <td>2.0</td>\n",
       "      <td>3.0</td>\n",
       "      <td>...</td>\n",
       "      <td>2.0</td>\n",
       "      <td>5.0</td>\n",
       "      <td>5.0</td>\n",
       "      <td>3.0</td>\n",
       "      <td>5.0</td>\n",
       "      <td>4.0</td>\n",
       "      <td>2.0</td>\n",
       "      <td>5.0</td>\n",
       "      <td>6.0</td>\n",
       "      <td>nacc_schizophrenia</td>\n",
       "    </tr>\n",
       "    <tr>\n",
       "      <th>SRR3438560</th>\n",
       "      <td>2.0</td>\n",
       "      <td>1.0</td>\n",
       "      <td>3.0</td>\n",
       "      <td>3.0</td>\n",
       "      <td>4.0</td>\n",
       "      <td>5.0</td>\n",
       "      <td>1.0</td>\n",
       "      <td>1.0</td>\n",
       "      <td>1.0</td>\n",
       "      <td>3.0</td>\n",
       "      <td>...</td>\n",
       "      <td>3.0</td>\n",
       "      <td>5.0</td>\n",
       "      <td>4.0</td>\n",
       "      <td>2.0</td>\n",
       "      <td>6.0</td>\n",
       "      <td>4.0</td>\n",
       "      <td>2.0</td>\n",
       "      <td>6.0</td>\n",
       "      <td>6.0</td>\n",
       "      <td>nacc_control</td>\n",
       "    </tr>\n",
       "    <tr>\n",
       "      <th>SRR3438561</th>\n",
       "      <td>2.0</td>\n",
       "      <td>2.0</td>\n",
       "      <td>4.0</td>\n",
       "      <td>3.0</td>\n",
       "      <td>4.0</td>\n",
       "      <td>5.0</td>\n",
       "      <td>1.0</td>\n",
       "      <td>1.0</td>\n",
       "      <td>1.0</td>\n",
       "      <td>3.0</td>\n",
       "      <td>...</td>\n",
       "      <td>3.0</td>\n",
       "      <td>5.0</td>\n",
       "      <td>4.0</td>\n",
       "      <td>2.0</td>\n",
       "      <td>5.0</td>\n",
       "      <td>3.0</td>\n",
       "      <td>1.0</td>\n",
       "      <td>5.0</td>\n",
       "      <td>6.0</td>\n",
       "      <td>nacc_control</td>\n",
       "    </tr>\n",
       "    <tr>\n",
       "      <th>SRR3438562</th>\n",
       "      <td>3.0</td>\n",
       "      <td>2.0</td>\n",
       "      <td>4.0</td>\n",
       "      <td>3.0</td>\n",
       "      <td>4.0</td>\n",
       "      <td>5.0</td>\n",
       "      <td>2.0</td>\n",
       "      <td>2.0</td>\n",
       "      <td>2.0</td>\n",
       "      <td>3.0</td>\n",
       "      <td>...</td>\n",
       "      <td>3.0</td>\n",
       "      <td>5.0</td>\n",
       "      <td>3.0</td>\n",
       "      <td>3.0</td>\n",
       "      <td>6.0</td>\n",
       "      <td>4.0</td>\n",
       "      <td>2.0</td>\n",
       "      <td>4.0</td>\n",
       "      <td>5.0</td>\n",
       "      <td>nacc_schizophrenia</td>\n",
       "    </tr>\n",
       "    <tr>\n",
       "      <th>SRR3438615</th>\n",
       "      <td>3.0</td>\n",
       "      <td>2.0</td>\n",
       "      <td>3.0</td>\n",
       "      <td>3.0</td>\n",
       "      <td>4.0</td>\n",
       "      <td>5.0</td>\n",
       "      <td>1.0</td>\n",
       "      <td>1.0</td>\n",
       "      <td>2.0</td>\n",
       "      <td>4.0</td>\n",
       "      <td>...</td>\n",
       "      <td>3.0</td>\n",
       "      <td>5.0</td>\n",
       "      <td>4.0</td>\n",
       "      <td>3.0</td>\n",
       "      <td>6.0</td>\n",
       "      <td>3.0</td>\n",
       "      <td>1.0</td>\n",
       "      <td>5.0</td>\n",
       "      <td>6.0</td>\n",
       "      <td>nacc_control</td>\n",
       "    </tr>\n",
       "    <tr>\n",
       "      <th>...</th>\n",
       "      <td>...</td>\n",
       "      <td>...</td>\n",
       "      <td>...</td>\n",
       "      <td>...</td>\n",
       "      <td>...</td>\n",
       "      <td>...</td>\n",
       "      <td>...</td>\n",
       "      <td>...</td>\n",
       "      <td>...</td>\n",
       "      <td>...</td>\n",
       "      <td>...</td>\n",
       "      <td>...</td>\n",
       "      <td>...</td>\n",
       "      <td>...</td>\n",
       "      <td>...</td>\n",
       "      <td>...</td>\n",
       "      <td>...</td>\n",
       "      <td>...</td>\n",
       "      <td>...</td>\n",
       "      <td>...</td>\n",
       "      <td>...</td>\n",
       "    </tr>\n",
       "    <tr>\n",
       "      <th>SRR3438899</th>\n",
       "      <td>2.0</td>\n",
       "      <td>1.0</td>\n",
       "      <td>4.0</td>\n",
       "      <td>3.0</td>\n",
       "      <td>4.0</td>\n",
       "      <td>5.0</td>\n",
       "      <td>2.0</td>\n",
       "      <td>1.0</td>\n",
       "      <td>2.0</td>\n",
       "      <td>3.0</td>\n",
       "      <td>...</td>\n",
       "      <td>3.0</td>\n",
       "      <td>5.0</td>\n",
       "      <td>3.0</td>\n",
       "      <td>3.0</td>\n",
       "      <td>6.0</td>\n",
       "      <td>3.0</td>\n",
       "      <td>1.0</td>\n",
       "      <td>4.0</td>\n",
       "      <td>6.0</td>\n",
       "      <td>nacc_major depression</td>\n",
       "    </tr>\n",
       "    <tr>\n",
       "      <th>SRR3438902</th>\n",
       "      <td>2.0</td>\n",
       "      <td>1.0</td>\n",
       "      <td>4.0</td>\n",
       "      <td>4.0</td>\n",
       "      <td>4.0</td>\n",
       "      <td>3.0</td>\n",
       "      <td>2.0</td>\n",
       "      <td>1.0</td>\n",
       "      <td>1.0</td>\n",
       "      <td>3.0</td>\n",
       "      <td>...</td>\n",
       "      <td>3.0</td>\n",
       "      <td>5.0</td>\n",
       "      <td>6.0</td>\n",
       "      <td>2.0</td>\n",
       "      <td>4.0</td>\n",
       "      <td>3.0</td>\n",
       "      <td>2.0</td>\n",
       "      <td>6.0</td>\n",
       "      <td>5.0</td>\n",
       "      <td>nacc_schizophrenia</td>\n",
       "    </tr>\n",
       "    <tr>\n",
       "      <th>SRR3438903</th>\n",
       "      <td>2.0</td>\n",
       "      <td>1.0</td>\n",
       "      <td>4.0</td>\n",
       "      <td>4.0</td>\n",
       "      <td>4.0</td>\n",
       "      <td>6.0</td>\n",
       "      <td>2.0</td>\n",
       "      <td>2.0</td>\n",
       "      <td>2.0</td>\n",
       "      <td>5.0</td>\n",
       "      <td>...</td>\n",
       "      <td>3.0</td>\n",
       "      <td>5.0</td>\n",
       "      <td>4.0</td>\n",
       "      <td>2.0</td>\n",
       "      <td>5.0</td>\n",
       "      <td>3.0</td>\n",
       "      <td>2.0</td>\n",
       "      <td>5.0</td>\n",
       "      <td>6.0</td>\n",
       "      <td>nacc_schizophrenia</td>\n",
       "    </tr>\n",
       "    <tr>\n",
       "      <th>SRR3438904</th>\n",
       "      <td>2.0</td>\n",
       "      <td>1.0</td>\n",
       "      <td>4.0</td>\n",
       "      <td>4.0</td>\n",
       "      <td>4.0</td>\n",
       "      <td>5.0</td>\n",
       "      <td>2.0</td>\n",
       "      <td>1.0</td>\n",
       "      <td>2.0</td>\n",
       "      <td>2.0</td>\n",
       "      <td>...</td>\n",
       "      <td>2.0</td>\n",
       "      <td>6.0</td>\n",
       "      <td>4.0</td>\n",
       "      <td>2.0</td>\n",
       "      <td>3.0</td>\n",
       "      <td>2.0</td>\n",
       "      <td>2.0</td>\n",
       "      <td>4.0</td>\n",
       "      <td>6.0</td>\n",
       "      <td>nacc_schizophrenia</td>\n",
       "    </tr>\n",
       "    <tr>\n",
       "      <th>SRR3438905</th>\n",
       "      <td>3.0</td>\n",
       "      <td>1.0</td>\n",
       "      <td>3.0</td>\n",
       "      <td>3.0</td>\n",
       "      <td>4.0</td>\n",
       "      <td>5.0</td>\n",
       "      <td>2.0</td>\n",
       "      <td>1.0</td>\n",
       "      <td>2.0</td>\n",
       "      <td>3.0</td>\n",
       "      <td>...</td>\n",
       "      <td>3.0</td>\n",
       "      <td>4.0</td>\n",
       "      <td>4.0</td>\n",
       "      <td>3.0</td>\n",
       "      <td>6.0</td>\n",
       "      <td>3.0</td>\n",
       "      <td>2.0</td>\n",
       "      <td>5.0</td>\n",
       "      <td>6.0</td>\n",
       "      <td>nacc_schizophrenia</td>\n",
       "    </tr>\n",
       "  </tbody>\n",
       "</table>\n",
       "<p>114 rows × 50 columns</p>\n",
       "</div>"
      ],
      "text/plain": [
       "            ACBD4  UBE2F-SCLY  TRIO  FLT1  DPP7  OBSCN  RN7SL455P  MFRP  SIX1   \n",
       "SRR3438559    2.0         1.0   4.0   4.0   4.0    5.0        2.0   1.0   2.0  \\\n",
       "SRR3438560    2.0         1.0   3.0   3.0   4.0    5.0        1.0   1.0   1.0   \n",
       "SRR3438561    2.0         2.0   4.0   3.0   4.0    5.0        1.0   1.0   1.0   \n",
       "SRR3438562    3.0         2.0   4.0   3.0   4.0    5.0        2.0   2.0   2.0   \n",
       "SRR3438615    3.0         2.0   3.0   3.0   4.0    5.0        1.0   1.0   2.0   \n",
       "...           ...         ...   ...   ...   ...    ...        ...   ...   ...   \n",
       "SRR3438899    2.0         1.0   4.0   3.0   4.0    5.0        2.0   1.0   2.0   \n",
       "SRR3438902    2.0         1.0   4.0   4.0   4.0    3.0        2.0   1.0   1.0   \n",
       "SRR3438903    2.0         1.0   4.0   4.0   4.0    6.0        2.0   2.0   2.0   \n",
       "SRR3438904    2.0         1.0   4.0   4.0   4.0    5.0        2.0   1.0   2.0   \n",
       "SRR3438905    3.0         1.0   3.0   3.0   4.0    5.0        2.0   1.0   2.0   \n",
       "\n",
       "            EDNRB  ...   F3  TNRC18  SEMA3B  POLE3  ARPP19  RTL6  PPIAL4E   \n",
       "SRR3438559    3.0  ...  2.0     5.0     5.0    3.0     5.0   4.0      2.0  \\\n",
       "SRR3438560    3.0  ...  3.0     5.0     4.0    2.0     6.0   4.0      2.0   \n",
       "SRR3438561    3.0  ...  3.0     5.0     4.0    2.0     5.0   3.0      1.0   \n",
       "SRR3438562    3.0  ...  3.0     5.0     3.0    3.0     6.0   4.0      2.0   \n",
       "SRR3438615    4.0  ...  3.0     5.0     4.0    3.0     6.0   3.0      1.0   \n",
       "...           ...  ...  ...     ...     ...    ...     ...   ...      ...   \n",
       "SRR3438899    3.0  ...  3.0     5.0     3.0    3.0     6.0   3.0      1.0   \n",
       "SRR3438902    3.0  ...  3.0     5.0     6.0    2.0     4.0   3.0      2.0   \n",
       "SRR3438903    5.0  ...  3.0     5.0     4.0    2.0     5.0   3.0      2.0   \n",
       "SRR3438904    2.0  ...  2.0     6.0     4.0    2.0     3.0   2.0      2.0   \n",
       "SRR3438905    3.0  ...  3.0     4.0     4.0    3.0     6.0   3.0      2.0   \n",
       "\n",
       "            SUN2  TNPO2      refinebio_subject  \n",
       "SRR3438559   5.0    6.0     nacc_schizophrenia  \n",
       "SRR3438560   6.0    6.0           nacc_control  \n",
       "SRR3438561   5.0    6.0           nacc_control  \n",
       "SRR3438562   4.0    5.0     nacc_schizophrenia  \n",
       "SRR3438615   5.0    6.0           nacc_control  \n",
       "...          ...    ...                    ...  \n",
       "SRR3438899   4.0    6.0  nacc_major depression  \n",
       "SRR3438902   6.0    5.0     nacc_schizophrenia  \n",
       "SRR3438903   5.0    6.0     nacc_schizophrenia  \n",
       "SRR3438904   4.0    6.0     nacc_schizophrenia  \n",
       "SRR3438905   5.0    6.0     nacc_schizophrenia  \n",
       "\n",
       "[114 rows x 50 columns]"
      ]
     },
     "execution_count": 35,
     "metadata": {},
     "output_type": "execute_result"
    }
   ],
   "source": [
    "impGenes"
   ]
  },
  {
   "cell_type": "code",
   "execution_count": 34,
   "id": "e35a7e3d-63ed-495c-b485-6d626dfc7492",
   "metadata": {},
   "outputs": [],
   "source": [
    "impGenes.to_csv(\"CGS_data/data/SRP073813/model_genes.csv\")"
   ]
  }
 ],
 "metadata": {
  "kernelspec": {
   "display_name": "Python 3 (ipykernel)",
   "language": "python",
   "name": "python3"
  },
  "language_info": {
   "codemirror_mode": {
    "name": "ipython",
    "version": 3
   },
   "file_extension": ".py",
   "mimetype": "text/x-python",
   "name": "python",
   "nbconvert_exporter": "python",
   "pygments_lexer": "ipython3",
   "version": "3.10.11"
  }
 },
 "nbformat": 4,
 "nbformat_minor": 5
}
