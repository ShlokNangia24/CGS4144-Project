{
 "cells": [
  {
   "cell_type": "code",
   "execution_count": 19,
   "id": "28655b4b-79b3-4c14-b63b-019b1e493b5b",
   "metadata": {},
   "outputs": [],
   "source": [
    "import pandas as pd\n",
    "import numpy as np\n",
    "import time\n",
    "import sklearn\n",
    "from sklearn.metrics.pairwise import euclidean_distances\n",
    "import matplotlib.pyplot as plt\n",
    "import numpy as np\n",
    "import scipy.cluster.hierarchy as hclust\n",
    "import pylab as pl\n",
    "import matplotlib.pyplot as plt\n",
    "import seaborn as sns\n",
    "from scipy.spatial.distance import pdist, squareform\n",
    "from scipy.cluster.hierarchy import linkage, cut_tree\n",
    "import kmedoids"
   ]
  },
  {
   "cell_type": "code",
   "execution_count": 20,
   "id": "4128781e-c80e-48f1-9f08-0c9f979b2c9f",
   "metadata": {},
   "outputs": [],
   "source": [
    "df_log = pd.read_csv(\"C:/Users/djcsr/Documents/Semester 9/CGS4144 Bioinformatics/Analysis/data/SRP073813/SRP073813_log.csv\")\n",
    "df_meta = pd.read_csv(\"C:/Users/djcsr/Documents/Semester 9/CGS4144 Bioinformatics/Analysis/data/SRP073813/SRP073813_meta.csv\")"
   ]
  },
  {
   "cell_type": "code",
   "execution_count": 21,
   "id": "1699cffe-2508-4a2a-ad55-15090f8aa71f",
   "metadata": {},
   "outputs": [],
   "source": [
    "df_log.set_index(\"HUGO\", inplace = True)\n",
    "df_meta.set_index(\"ID\", inplace = True) #Setting the index for data makes the enrichment analysis easier\n",
    "df_meta = df_meta['refinebio_subject'] #removes unnecessary data "
   ]
  },
  {
   "cell_type": "code",
   "execution_count": 22,
   "id": "07b3524f-48c6-4914-867f-c0d5d54a9ef7",
   "metadata": {},
   "outputs": [],
   "source": [
    "df_meta = df_meta.to_frame()"
   ]
  },
  {
   "cell_type": "code",
   "execution_count": 23,
   "id": "39f68761-f55e-402b-9636-2a09bbb1aeaf",
   "metadata": {},
   "outputs": [],
   "source": [
    "df_log =round(df_log) \n",
    "df_log = df_log.T #swaps columns and indexes which allows the deseq to run \n",
    "df_log = df_log.join(df_meta)"
   ]
  },
  {
   "cell_type": "code",
   "execution_count": 24,
   "id": "c87d2178-3a3c-473d-adf4-8fd3e56a7091",
   "metadata": {},
   "outputs": [],
   "source": [
    "df_log = df_log.loc[:, ~df_log.columns.duplicated()] #removes duplicate columns prevent deseq"
   ]
  },
  {
   "cell_type": "code",
   "execution_count": 25,
   "id": "66ab93d1-41ad-4331-b3a2-4cdd6dafc802",
   "metadata": {},
   "outputs": [],
   "source": [
    "#Transfomring the data to contain only data collected from a certain part of the brain in our patients \n",
    "df_log = df_log[df_log[\"refinebio_subject\"].str.contains('nacc')]\n",
    "df_meta = df_meta[df_meta[\"refinebio_subject\"].str.contains('nacc')] "
   ]
  },
  {
   "cell_type": "code",
   "execution_count": 26,
   "id": "87551efa-e5ea-44ef-8966-84d2c591591f",
   "metadata": {},
   "outputs": [],
   "source": [
    "df_log.set_index(\"refinebio_subject\", inplace = True)"
   ]
  },
  {
   "cell_type": "code",
   "execution_count": 27,
   "id": "d0117f54-e156-4e9c-93d1-d32059250a31",
   "metadata": {},
   "outputs": [],
   "source": [
    "df_log = df_log.T"
   ]
  },
  {
   "cell_type": "code",
   "execution_count": 28,
   "id": "3db9516a-788e-440d-b5b2-c0e72fcb4aba",
   "metadata": {},
   "outputs": [],
   "source": [
    "df_log[\"variance\"] = np.var(df_log.values, axis=1)\n",
    "df = df_log.sort_values(\"variance\", ascending=False)\n",
    "dfTen = df.head(10)\n",
    "dfHun = df.head(100)\n",
    "dfThous = df.head(1000)\n",
    "dfTenThous = df.head(10000)\n",
    "dfFiveThous = df.head(5000)\n",
    "df.drop(\"variance\", axis =1, inplace = True)"
   ]
  },
  {
   "cell_type": "code",
   "execution_count": 29,
   "id": "af5db900-8f18-4245-a642-751dbb792442",
   "metadata": {},
   "outputs": [],
   "source": [
    "# Above is code needed until we diverge on clustering method"
   ]
  },
  {
   "cell_type": "code",
   "execution_count": 30,
   "id": "96357bb1-a341-4905-a417-58aba30df63a",
   "metadata": {},
   "outputs": [
    {
     "data": {
      "text/plain": [
       "(10, 115)"
      ]
     },
     "execution_count": 30,
     "metadata": {},
     "output_type": "execute_result"
    }
   ],
   "source": [
    "dfTen.shape"
   ]
  },
  {
   "cell_type": "code",
   "execution_count": 55,
   "id": "ce4a65d4-8c80-4b5a-9b04-74871326241c",
   "metadata": {},
   "outputs": [],
   "source": [
    "dissDfTen = euclidean_distances(dfTen)\n",
    "dissDfHun = euclidean_distances(dfHun)\n",
    "dissDfThous = euclidean_distances(dfThous)\n",
    "dissDfTenThous = euclidean_distances(dfTenThous)\n",
    "dissDfFiveThous = euclidean_distances(dfFiveThous)"
   ]
  },
  {
   "cell_type": "code",
   "execution_count": 57,
   "id": "dbe77cc6-7525-4273-8fcb-ea204b5f0bca",
   "metadata": {},
   "outputs": [],
   "source": [
    "# clustering using PAM on ten genes\n",
    "tenPamk5 = kmedoids.pam(dissDfTen, medoids = 5, max_iter = 100, init = \"first\", random_state = None) \n",
    "tenPamk4 = kmedoids.pam(dissDfTen, medoids = 4, max_iter = 100, init = \"first\", random_state = None) \n",
    "tenPamk3 = kmedoids.pam(dissDfTen, medoids = 3, max_iter = 100, init = \"first\", random_state = None) "
   ]
  },
  {
   "cell_type": "code",
   "execution_count": 58,
   "id": "87380b4a-0863-4d4b-b1f9-1aaf03e114f0",
   "metadata": {},
   "outputs": [
    {
     "data": {
      "text/plain": [
       "(KMedoidsResult(loss=43.96174259137469, labels=[0 2 2 2 4 3 2 2 1 2], medoids=[0 8 2 5 4], n_iter=3, n_swaps=2),\n",
       " KMedoidsResult(loss=58.418584351908294, labels=[0 2 2 2 1 3 2 2 3 2], medoids=[0 4 2 5], n_iter=3, n_swaps=2),\n",
       " KMedoidsResult(loss=75.28332167186747, labels=[0 2 2 2 0 1 2 2 1 2], medoids=[0 5 2], n_iter=2, n_swaps=1))"
      ]
     },
     "execution_count": 58,
     "metadata": {},
     "output_type": "execute_result"
    }
   ],
   "source": [
    "tenPamk5, tenPamk4, tenPamk3"
   ]
  },
  {
   "cell_type": "code",
   "execution_count": 61,
   "id": "e0291dd7-8a07-4022-ad4d-e9fbefa60ae4",
   "metadata": {},
   "outputs": [],
   "source": [
    "#clustering using PAM on one hundred genes\n",
    "hunPamk5 = kmedoids.pam(dissDfHun, medoids = 5, max_iter = 100, init = \"first\", random_state = None) \n",
    "hunPamk4 = kmedoids.pam(dissDfHun, medoids = 4, max_iter = 100, init = \"first\", random_state = None) \n",
    "hunPamk3 = kmedoids.pam(dissDfHun, medoids = 3, max_iter = 100, init = \"first\", random_state = None) "
   ]
  },
  {
   "cell_type": "code",
   "execution_count": 62,
   "id": "de95e39f-bb4e-44e2-99bb-bad0134d734c",
   "metadata": {},
   "outputs": [
    {
     "data": {
      "text/plain": [
       "(KMedoidsResult(loss=842.5143802762627, labels=[0 1 3 3 0 2 3 1 2 3 2 3 3 4 3 2 0 2 1 3 1 4 4 1 3 3 1 1 1 2 2 3 1 1 3 4 3\n",
       "  4 1 2 3 3 3 3 2 0 1 2 3 1 0 1 3 2 2 2 1 3 3 3 2 2 1 1 2 0 0 0 1 3 3 2 1 2\n",
       "  1 3 1 3 1 1 1 2 4 4 3 1 3 0 1 3 1 4 1 1 1 1 0 1 2 2], medoids=[67 94 71 24 83], n_iter=7, n_swaps=6),\n",
       " KMedoidsResult(loss=906.4576073600996, labels=[0 1 3 3 0 2 3 1 2 3 2 3 3 0 3 2 0 2 1 3 1 0 0 1 3 3 1 1 1 2 2 3 1 1 3 0 3\n",
       "  0 2 1 3 3 3 3 2 0 1 2 3 1 0 1 3 2 2 2 1 3 3 3 2 2 1 1 2 0 2 0 1 3 3 2 1 2\n",
       "  1 3 1 3 1 1 1 1 0 0 3 1 3 2 1 3 1 0 1 1 1 1 0 1 2 2], medoids=[83 94 98 24], n_iter=6, n_swaps=5),\n",
       " KMedoidsResult(loss=1003.0630397226475, labels=[0 1 2 2 0 1 2 2 1 2 1 2 2 1 2 1 0 1 1 2 1 1 1 1 2 2 1 1 1 0 1 2 2 2 2 1 2\n",
       "  1 1 2 2 2 2 2 0 0 1 1 2 2 0 2 2 1 1 0 1 2 2 2 1 1 1 1 0 0 0 0 1 2 2 1 1 1\n",
       "  2 2 2 2 2 1 1 2 0 1 2 1 2 0 1 2 1 1 1 2 1 1 0 1 1 0], medoids=[66 88 24], n_iter=4, n_swaps=3))"
      ]
     },
     "execution_count": 62,
     "metadata": {},
     "output_type": "execute_result"
    }
   ],
   "source": [
    "hunPamk5, hunPamk4, hunPamk3"
   ]
  },
  {
   "cell_type": "code",
   "execution_count": 63,
   "id": "db1714b7-1659-4d1e-9e6c-0bd38df716d0",
   "metadata": {},
   "outputs": [],
   "source": [
    "#clustering using PAM on one thousand genes\n",
    "thousPamk5 = kmedoids.pam(dissDfThous, medoids = 5, max_iter = 100, init = \"first\", random_state = None) \n",
    "thousPamk4 = kmedoids.pam(dissDfThous, medoids = 4, max_iter = 100, init = \"first\", random_state = None) \n",
    "thousPamk3 = kmedoids.pam(dissDfThous, medoids = 3, max_iter = 100, init = \"first\", random_state = None) "
   ]
  },
  {
   "cell_type": "code",
   "execution_count": 64,
   "id": "fc23feec-b99c-47ea-abd7-2005a60251f5",
   "metadata": {},
   "outputs": [
    {
     "data": {
      "text/plain": [
       "(KMedoidsResult(loss=7875.221585347835, labels=[4 2 2 2 4 3 2 2 2 2 3 2 2 0 2 3 4 2 1 2 1 0 0 1 2 2 1 1 1 3 3 2 2 2 2 0 2\n",
       "  0 1 2 2 2 2 2 3 4 2 3 2 2 4 2 2 3 3 3 1 2 2 2 2 3 1 1 3 4 4 4 2 2 2 3 1 2\n",
       "  2 2 2 2 2 1 1 2 0 0 2 1 2 4 1 2 2 0 1 2 2 1 4 1 3 3 2 3 2 1 2 3 4 2 1 1 2\n",
       "  2 1 2 3 2 3 2 2 0 2 2 1 1 2 2 2 2 2 3 2 1 3 1 1 2 1 3 0 3 2 1 2 2 2 4 2 1\n",
       "  1 1 2 1 2 2 2 1 0 4 1 1 2 2 1 1 1 3 2 0 2 1 2 1 2 2 2 4 1 4 1 1 3 2 3 0 2\n",
       "  2 1 3 1 1 3 2 2 4 0 2 2 2 0 2 2 1 2 3 2 2 2 0 2 2 4 1 0 2 2 2 3 1 3 4 1 3\n",
       "  1 3 2 2 3 0 3 2 0 0 0 1 2 2 3 3 3 2 2 1 1 3 2 3 1 3 2 1 4 1 0 3 1 1 1 2 2\n",
       "  0 3 2 1 2 2 1 1 1 3 4 2 2 1 2 2 1 4 2 2 3 1 2 2 2 1 3 1 3 0 4 2 1 1 4 1 3\n",
       "  1 3 2 4 2 1 1 1 2 2 0 2 3 2 2 2 0 4 1 2 0 2 2 3 1 2 3 1 3 2 2 0 4 3 0 2 1\n",
       "  2 3 1 1 1 3 1 3 1 2 1 3 3 0 0 1 0 4 0 4 1 0 1 3 1 3 2 1 0 4 3 1 2 1 1 3 1\n",
       "  1 2 4 2 2 3 3 3 3 4 1 1 3 4 3 4 1 4 0 2 2 1 1 4 0 1 2 1 4 1 0 3 1 0 1 0 1\n",
       "  2 1 1 3 3 3 1 2 1 0 1 3 0 1 1 2 1 1 1 1 3 4 1 4 2 3 3 0 0 2 1 2 1 1 4 1 1\n",
       "  2 3 0 0 0 0 2 0 2 1 1 0 3 0 2 1 1 3 2 0 1 0 3 3 1 3 1 3 3 2 0 0 1 3 1 1 3\n",
       "  3 3 1 0 0 1 1 1 1 1 4 2 0 0 2 1 2 2 1 2 4 0 1 1 3 4 3 2 1 2 4 0 0 2 2 4 2\n",
       "  2 3 0 1 1 1 3 1 1 3 3 1 0 4 4 2 0 1 3 2 1 1 4 4 2 1 1 1 4 1 1 4 1 2 1 3 2\n",
       "  0 4 3 3 4 1 0 1 0 2 1 2 2 3 4 1 1 4 1 0 0 0 0 1 4 1 0 2 1 0 2 4 1 1 1 1 1\n",
       "  0 3 3 0 2 4 4 1 0 1 3 4 4 4 1 4 1 1 4 1 1 3 3 2 1 3 1 0 2 2 0 4 3 3 0 1 2\n",
       "  1 3 1 1 1 4 1 1 4 2 3 3 1 2 2 1 4 1 0 3 0 3 3 2 1 1 1 0 1 3 1 0 1 2 4 1 0\n",
       "  2 1 3 0 0 2 3 4 3 3 0 1 1 4 1 3 0 2 1 4 1 3 2 1 4 4 3 0 1 4 4 2 1 1 4 1 1\n",
       "  1 1 1 0 4 3 4 3 0 4 1 0 0 2 3 3 4 1 0 4 1 2 0 0 0 4 0 1 3 3 1 1 4 2 0 1 1\n",
       "  2 3 1 1 1 1 3 1 1 1 2 0 1 2 4 3 3 1 1 0 4 1 2 0 2 2 1 0 2 2 1 1 0 0 1 1 2\n",
       "  1 4 1 2 1 4 4 1 1 3 2 3 4 3 4 0 3 1 4 4 1 1 2 3 0 1 1 1 2 1 1 2 1 1 3 3 4\n",
       "  0 3 4 1 3 3 4 4 3 1 1 1 2 4 0 3 0 4 4 4 4 4 4 0 4 0 1 4 0 0 0 1 0 1 0 3 1\n",
       "  1 4 0 0 0 3 1 1 1 4 0 2 2 4 1 3 1 4 3 0 0 4 1 4 0 4 4 3 1 4 4 0 4 0 0 4 1\n",
       "  4 1 1 4 4 1 2 2 4 0 3 1 0 0 1 0 1 0 4 0 4 3 4 0 0 1 3 1 4 0 1 1 1 4 4 4 1\n",
       "  0 4 0 0 3 4 4 0 3 0 0 4 1 0 3 0 0 0 3 3 0 1 1 0 0 0 0 4 3 0 4 4 4 4 4 1 4\n",
       "  3 3 3 0 1 1 0 4 4 0 0 0 0 1 3 0 4 4 4 1 0 4 0 0 0 4 4 4 1 0 4 0 1 0 0 3 4\n",
       "  1], medoids=[912 758 582 456 892], n_iter=14, n_swaps=13),\n",
       " KMedoidsResult(loss=8194.148094810369, labels=[0 3 3 3 0 1 3 3 3 3 1 3 3 2 3 1 0 3 1 3 1 2 2 1 3 3 1 1 1 0 1 3 3 3 3 2 3\n",
       "  2 1 3 3 3 3 3 2 0 3 1 3 3 0 3 3 1 1 0 1 3 3 3 3 2 1 1 0 0 0 0 3 3 3 1 1 3\n",
       "  3 3 3 3 3 1 1 3 0 2 3 1 3 0 1 3 3 2 1 3 3 1 0 1 1 0 3 2 3 1 3 1 0 3 1 1 3\n",
       "  3 1 3 1 3 0 3 3 2 3 3 1 1 3 3 3 3 3 1 3 1 2 1 1 3 1 0 2 2 3 1 3 3 3 0 3 1\n",
       "  2 1 3 1 3 3 3 2 2 0 1 1 3 3 1 1 1 0 3 2 3 1 3 1 3 3 3 0 1 0 1 1 2 3 2 2 3\n",
       "  3 1 1 1 1 0 3 3 0 2 3 3 3 2 3 3 1 3 1 3 3 3 2 3 3 0 1 2 3 3 3 0 1 1 0 1 1\n",
       "  1 0 3 3 2 2 2 3 2 2 2 1 3 3 0 1 1 3 3 1 1 2 3 1 1 1 3 1 0 1 2 0 2 1 1 3 3\n",
       "  2 0 3 1 3 3 1 1 1 2 0 3 3 1 3 3 1 0 3 3 1 1 3 3 3 1 2 1 2 1 0 3 1 1 0 1 2\n",
       "  1 2 3 0 3 1 1 1 3 3 2 3 1 3 3 3 2 0 1 3 2 3 3 0 2 3 1 1 2 3 3 2 0 0 2 3 1\n",
       "  3 0 1 1 1 1 1 1 1 3 1 2 2 2 0 1 2 0 2 0 1 1 1 1 1 1 3 1 2 0 0 1 3 1 1 0 1\n",
       "  1 3 0 3 3 2 1 2 2 0 1 1 2 0 1 0 1 0 2 3 3 1 1 0 2 1 3 1 0 1 2 0 1 2 1 1 1\n",
       "  3 1 2 1 2 1 1 3 1 0 1 0 2 1 1 3 1 1 1 1 0 0 1 0 3 2 1 2 2 3 1 3 1 1 0 2 1\n",
       "  3 2 2 1 2 2 3 2 3 1 1 2 2 1 3 1 1 1 3 1 1 0 1 2 1 1 1 1 2 3 2 2 1 2 1 1 1\n",
       "  0 2 1 1 0 1 1 1 1 1 0 3 2 2 3 1 3 3 1 3 0 0 1 1 0 0 0 3 1 3 0 2 2 3 3 0 3\n",
       "  3 2 0 1 1 2 1 1 1 0 0 1 2 0 0 3 2 1 1 3 1 1 0 0 3 2 1 1 0 1 1 0 1 3 2 2 3\n",
       "  1 0 1 2 0 1 2 1 2 3 1 3 3 2 0 1 1 0 1 2 2 2 2 1 0 1 0 3 2 0 3 0 2 1 1 1 1\n",
       "  2 2 2 2 3 0 0 1 2 1 1 0 0 0 1 0 1 1 0 1 2 1 2 3 1 2 1 2 3 3 2 0 2 2 0 1 3\n",
       "  1 2 1 1 1 0 1 1 0 3 2 2 1 3 3 1 0 1 2 2 2 0 1 3 1 1 1 2 1 0 2 0 1 3 0 2 1\n",
       "  3 1 1 2 2 3 1 0 1 2 0 1 2 0 1 1 2 3 2 0 1 2 3 1 0 0 2 2 1 0 0 3 1 1 0 2 2\n",
       "  1 1 2 0 0 2 0 2 2 0 1 2 2 3 1 1 0 2 0 0 1 3 2 2 2 0 0 1 1 1 1 2 0 3 2 1 2\n",
       "  3 1 1 1 2 1 1 2 1 1 3 2 2 3 0 1 1 1 1 2 0 1 3 2 3 3 1 2 3 3 1 1 2 2 1 1 3\n",
       "  1 0 2 3 1 0 0 1 2 1 3 2 0 1 0 2 2 2 0 0 1 1 3 1 2 1 1 1 3 1 1 3 1 1 2 2 0\n",
       "  2 2 0 1 2 2 0 0 2 1 1 1 3 0 2 1 2 0 0 0 0 0 0 2 0 2 1 0 2 2 2 1 2 1 0 1 1\n",
       "  1 0 2 2 2 0 1 1 1 0 0 3 3 0 1 2 1 0 0 0 2 0 1 0 0 0 0 2 1 0 0 2 0 0 2 0 1\n",
       "  0 2 1 0 0 1 3 3 0 0 2 1 0 0 1 2 1 2 0 2 0 0 0 2 2 1 2 2 0 0 1 1 1 0 0 0 1\n",
       "  2 0 0 2 2 0 0 0 1 0 0 0 1 2 2 2 2 0 2 2 0 1 1 2 0 2 2 0 1 0 0 0 0 0 0 1 0\n",
       "  2 2 2 0 1 1 2 0 0 2 2 2 2 1 0 2 0 0 0 1 2 0 2 2 0 0 0 0 1 2 0 2 1 2 2 0 0\n",
       "  1], medoids=[989 758 925 582], n_iter=7, n_swaps=6),\n",
       " KMedoidsResult(loss=8627.74378634839, labels=[0 2 2 2 0 1 2 2 2 2 1 2 2 1 2 1 0 2 1 2 1 1 1 1 2 2 1 1 1 0 1 2 2 2 2 1 2\n",
       "  1 1 2 2 2 2 2 1 0 2 1 2 2 0 2 2 1 1 0 1 2 2 2 2 1 1 1 0 0 0 0 2 2 2 1 1 2\n",
       "  2 2 2 2 2 1 1 2 0 1 2 1 2 0 1 2 2 1 1 2 2 1 0 1 1 0 2 0 2 1 2 1 0 2 1 1 2\n",
       "  2 1 2 1 2 0 2 2 1 2 2 1 1 2 2 2 2 2 1 2 1 1 1 1 2 1 0 1 0 2 1 2 2 2 0 2 1\n",
       "  1 1 2 1 2 2 2 1 1 0 1 1 2 2 1 1 1 0 2 1 2 1 2 1 2 2 2 0 1 0 1 1 1 2 1 1 2\n",
       "  2 1 1 1 1 0 2 2 0 1 2 2 2 1 2 2 1 2 1 2 2 2 1 2 2 0 1 1 2 2 2 0 1 1 0 1 1\n",
       "  1 0 2 2 1 0 1 2 1 1 0 1 2 2 0 1 1 2 2 1 1 1 2 1 1 1 2 1 0 1 1 0 1 1 1 2 2\n",
       "  0 0 2 1 2 2 1 1 1 1 0 2 2 1 2 2 1 0 2 2 1 1 2 2 2 1 1 1 0 1 0 2 1 1 0 1 1\n",
       "  1 1 2 0 2 1 1 1 2 2 1 2 1 2 2 2 1 0 1 2 1 2 2 0 1 2 1 1 1 2 2 1 0 0 0 2 1\n",
       "  2 0 1 1 1 1 1 1 1 2 1 1 1 1 0 1 1 0 1 0 1 1 1 1 1 1 2 1 1 0 0 1 2 1 1 0 1\n",
       "  1 2 0 2 2 0 1 1 1 0 1 1 1 0 1 0 1 0 1 2 2 1 1 0 1 1 2 1 0 1 1 0 1 1 1 1 1\n",
       "  2 1 1 1 1 1 1 2 1 0 1 0 1 1 1 2 1 1 1 1 0 0 1 0 2 1 1 1 0 2 1 2 1 1 0 1 1\n",
       "  2 0 1 1 1 1 2 1 2 1 1 1 1 1 2 1 1 1 2 1 1 0 1 1 1 1 1 1 0 2 0 0 1 1 1 1 1\n",
       "  0 0 1 1 0 1 1 1 1 1 0 2 1 1 2 1 2 2 1 2 0 0 1 1 0 0 0 2 1 2 0 0 1 2 2 0 2\n",
       "  2 1 0 1 1 1 1 1 1 0 0 1 0 0 0 2 0 1 1 2 1 1 0 0 2 1 1 1 0 1 1 0 1 2 1 1 2\n",
       "  1 0 1 1 0 1 1 1 1 2 1 2 2 1 0 1 1 0 1 1 1 1 0 1 0 1 0 2 1 0 2 0 1 1 1 1 1\n",
       "  0 1 1 1 2 0 0 1 0 1 1 0 0 0 1 0 1 1 0 1 1 1 1 2 1 1 1 1 2 2 1 0 1 0 0 1 2\n",
       "  1 1 1 1 1 0 1 1 0 2 1 0 1 2 2 1 0 1 1 1 0 0 1 2 1 1 1 1 1 0 1 0 1 2 0 1 1\n",
       "  2 1 1 0 1 2 1 0 1 1 0 1 1 0 1 1 1 2 1 0 1 1 2 1 0 0 1 1 1 0 0 2 1 1 0 1 1\n",
       "  1 1 1 0 0 0 0 1 1 0 1 0 0 2 1 1 0 1 0 0 1 2 1 1 0 0 0 1 1 1 1 1 0 2 0 1 1\n",
       "  2 1 1 1 1 1 1 1 1 1 2 1 1 2 0 1 1 1 1 1 0 1 2 1 2 2 1 0 2 2 1 1 0 1 1 1 2\n",
       "  1 0 1 2 1 0 0 1 1 1 2 1 0 1 0 0 1 1 0 0 1 1 2 1 0 1 1 1 2 1 1 2 1 1 0 1 0\n",
       "  1 0 0 1 1 1 0 0 1 1 1 1 2 0 1 1 0 0 0 0 0 0 0 1 0 0 1 0 1 1 1 1 1 1 0 1 1\n",
       "  1 0 0 0 1 0 1 1 1 0 0 2 2 0 1 1 1 0 0 0 0 0 1 0 0 0 0 1 1 0 0 1 0 0 1 0 1\n",
       "  0 1 1 0 0 1 2 2 0 0 0 1 0 0 1 1 1 0 0 1 0 0 0 1 1 1 1 1 0 0 1 1 1 0 0 0 1\n",
       "  1 0 0 0 1 0 0 0 1 0 0 0 1 0 1 0 0 0 1 1 0 1 1 1 0 1 1 0 1 0 0 0 0 0 0 1 0\n",
       "  1 1 1 0 1 1 0 0 0 1 1 0 1 1 0 1 0 0 0 1 1 0 1 0 0 0 0 0 1 0 0 0 1 1 1 0 0\n",
       "  1], medoids=[989 758 582], n_iter=5, n_swaps=4))"
      ]
     },
     "execution_count": 64,
     "metadata": {},
     "output_type": "execute_result"
    }
   ],
   "source": [
    "thousPamk5, thousPamk4, thousPamk3"
   ]
  },
  {
   "cell_type": "code",
   "execution_count": 67,
   "id": "603ee06e-8d5c-4ffe-9143-a0132e19d424",
   "metadata": {},
   "outputs": [],
   "source": [
    "#clustering using PAM on ten thousand genes\n",
    "tenThousPamk5 = kmedoids.pam(dissDfTenThous, medoids = 5, max_iter = 100, init = \"first\", random_state = None) \n",
    "tenThousPamk4 = kmedoids.pam(dissDfTenThous, medoids = 4, max_iter = 100, init = \"first\", random_state = None) \n",
    "tenThousPamk3 = kmedoids.pam(dissDfTenThous, medoids = 3, max_iter = 100, init = \"first\", random_state = None) "
   ]
  },
  {
   "cell_type": "code",
   "execution_count": 70,
   "id": "c0822584-1c24-40e5-bd33-728e589d3164",
   "metadata": {},
   "outputs": [
    {
     "data": {
      "text/plain": [
       "(KMedoidsResult(loss=61658.200279695644, labels=[0 3 3 ... 0 0 0], medoids=[9913 9797 8388 2043 9957], n_iter=7, n_swaps=6),\n",
       " KMedoidsResult(loss=65743.55198596789, labels=[0 1 1 ... 0 0 0], medoids=[9913 8388 9957 9797], n_iter=6, n_swaps=5),\n",
       " KMedoidsResult(loss=70439.62158928667, labels=[0 1 1 ... 0 0 0], medoids=[9913 8388 9784], n_iter=6, n_swaps=5))"
      ]
     },
     "execution_count": 70,
     "metadata": {},
     "output_type": "execute_result"
    }
   ],
   "source": [
    "tenThousPamk5, tenThousPamk4, tenThousPamk3"
   ]
  },
  {
   "cell_type": "code",
   "execution_count": 71,
   "id": "b9a4f5c1-b28a-4ccd-9c55-524eb47d7357",
   "metadata": {},
   "outputs": [],
   "source": [
    "#clustering using PAM on five thousand genes\n",
    "fiveThousPamk5 = kmedoids.pam(dissDfFiveThous, medoids = 5, max_iter = 100, init = \"first\", random_state = None) \n",
    "fiveThousPamk4 = kmedoids.pam(dissDfFiveThous, medoids = 4, max_iter = 100, init = \"first\", random_state = None) \n",
    "fiveThousPamk3 = kmedoids.pam(dissDfFiveThous, medoids = 3, max_iter = 100, init = \"first\", random_state = None) "
   ]
  },
  {
   "cell_type": "code",
   "execution_count": 72,
   "id": "ee1f27cf-655a-4bff-9e75-8169ed090fba",
   "metadata": {},
   "outputs": [
    {
     "data": {
      "text/plain": [
       "(KMedoidsResult(loss=36868.353132816446, labels=[0 1 1 ... 3 3 4], medoids=[4908 2043 4899 4463 4867], n_iter=11, n_swaps=10),\n",
       " KMedoidsResult(loss=38275.32180685905, labels=[0 1 1 ... 0 0 3], medoids=[4797 2043 4899 4934], n_iter=7, n_swaps=6),\n",
       " KMedoidsResult(loss=43032.85209672146, labels=[0 1 1 ... 0 0 2], medoids=[4984 4754 4934], n_iter=6, n_swaps=5))"
      ]
     },
     "execution_count": 72,
     "metadata": {},
     "output_type": "execute_result"
    }
   ],
   "source": [
    "fiveThousPamk5, fiveThousPamk4, fiveThousPamk3"
   ]
  },
  {
   "cell_type": "code",
   "execution_count": null,
   "id": "be7b47a8-df3e-4004-bdaf-ce1b81e30b02",
   "metadata": {},
   "outputs": [],
   "source": []
  }
 ],
 "metadata": {
  "kernelspec": {
   "display_name": "Python 3 (ipykernel)",
   "language": "python",
   "name": "python3"
  },
  "language_info": {
   "codemirror_mode": {
    "name": "ipython",
    "version": 3
   },
   "file_extension": ".py",
   "mimetype": "text/x-python",
   "name": "python",
   "nbconvert_exporter": "python",
   "pygments_lexer": "ipython3",
   "version": "3.9.13"
  }
 },
 "nbformat": 4,
 "nbformat_minor": 5
}
